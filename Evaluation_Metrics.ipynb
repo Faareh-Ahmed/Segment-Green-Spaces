{
  "nbformat": 4,
  "nbformat_minor": 0,
  "metadata": {
    "colab": {
      "provenance": [],
      "authorship_tag": "ABX9TyPSAtJ/127Q/4Yf11kpvgZS",
      "include_colab_link": true
    },
    "kernelspec": {
      "name": "python3",
      "display_name": "Python 3"
    },
    "language_info": {
      "name": "python"
    }
  },
  "cells": [
    {
      "cell_type": "markdown",
      "metadata": {
        "id": "view-in-github",
        "colab_type": "text"
      },
      "source": [
        "<a href=\"https://colab.research.google.com/github/Faareh-Ahmed/Segment-Green-Spaces/blob/main/Evaluation_Metrics.ipynb\" target=\"_parent\"><img src=\"https://colab.research.google.com/assets/colab-badge.svg\" alt=\"Open In Colab\"/></a>"
      ]
    },
    {
      "cell_type": "markdown",
      "source": [
        "# Accuracy Metrics for SAM2 generated Masks"
      ],
      "metadata": {
        "id": "iV3B_88ydr5L"
      }
    },
    {
      "cell_type": "code",
      "source": [
        "!pip install rasterio"
      ],
      "metadata": {
        "colab": {
          "base_uri": "https://localhost:8080/"
        },
        "id": "Bb9GlM9PfJMK",
        "outputId": "f4519894-a6da-4ace-b6f7-dd1ea051ba2f"
      },
      "execution_count": 1,
      "outputs": [
        {
          "output_type": "stream",
          "name": "stdout",
          "text": [
            "Collecting rasterio\n",
            "  Downloading rasterio-1.4.3-cp310-cp310-manylinux_2_17_x86_64.manylinux2014_x86_64.whl.metadata (9.1 kB)\n",
            "Collecting affine (from rasterio)\n",
            "  Downloading affine-2.4.0-py3-none-any.whl.metadata (4.0 kB)\n",
            "Requirement already satisfied: attrs in /usr/local/lib/python3.10/dist-packages (from rasterio) (24.3.0)\n",
            "Requirement already satisfied: certifi in /usr/local/lib/python3.10/dist-packages (from rasterio) (2024.12.14)\n",
            "Requirement already satisfied: click>=4.0 in /usr/local/lib/python3.10/dist-packages (from rasterio) (8.1.8)\n",
            "Collecting cligj>=0.5 (from rasterio)\n",
            "  Downloading cligj-0.7.2-py3-none-any.whl.metadata (5.0 kB)\n",
            "Requirement already satisfied: numpy>=1.24 in /usr/local/lib/python3.10/dist-packages (from rasterio) (1.26.4)\n",
            "Collecting click-plugins (from rasterio)\n",
            "  Downloading click_plugins-1.1.1-py2.py3-none-any.whl.metadata (6.4 kB)\n",
            "Requirement already satisfied: pyparsing in /usr/local/lib/python3.10/dist-packages (from rasterio) (3.2.1)\n",
            "Downloading rasterio-1.4.3-cp310-cp310-manylinux_2_17_x86_64.manylinux2014_x86_64.whl (22.2 MB)\n",
            "\u001b[2K   \u001b[90m━━━━━━━━━━━━━━━━━━━━━━━━━━━━━━━━━━━━━━━━\u001b[0m \u001b[32m22.2/22.2 MB\u001b[0m \u001b[31m18.6 MB/s\u001b[0m eta \u001b[36m0:00:00\u001b[0m\n",
            "\u001b[?25hDownloading cligj-0.7.2-py3-none-any.whl (7.1 kB)\n",
            "Downloading affine-2.4.0-py3-none-any.whl (15 kB)\n",
            "Downloading click_plugins-1.1.1-py2.py3-none-any.whl (7.5 kB)\n",
            "Installing collected packages: cligj, click-plugins, affine, rasterio\n",
            "Successfully installed affine-2.4.0 click-plugins-1.1.1 cligj-0.7.2 rasterio-1.4.3\n"
          ]
        }
      ]
    },
    {
      "cell_type": "code",
      "source": [
        "from sklearn.metrics import confusion_matrix\n",
        "import numpy as np\n",
        "import rasterio\n",
        "\n",
        "def compute_iou(y_pred, y_true):\n",
        "    y_pred = y_pred.flatten()\n",
        "    y_true = y_true.flatten()\n",
        "    current = confusion_matrix(y_true, y_pred, labels=[0, 1])\n",
        "    intersection = np.diag(current)\n",
        "    ground_truth_set = current.sum(axis=1)\n",
        "    predicted_set = current.sum(axis=0)\n",
        "    union = ground_truth_set + predicted_set - intersection\n",
        "    IoU = intersection / union.astype(np.float32)\n",
        "    return np.mean(IoU)\n",
        "\n",
        "def compute_dice(y_pred, y_true):\n",
        "    y_pred = y_pred.flatten()\n",
        "    y_true = y_true.flatten()\n",
        "    current = confusion_matrix(y_true, y_pred, labels=[0, 1])\n",
        "    intersection = np.diag(current)\n",
        "    ground_truth_set = current.sum(axis=1)\n",
        "    predicted_set = current.sum(axis=0)\n",
        "    dice = (2 * intersection) / (ground_truth_set + predicted_set).astype(np.float32)\n",
        "    return np.mean(dice)\n",
        "\n",
        "def compute_pixel_accuracy(y_pred, y_true):\n",
        "    y_pred = y_pred.flatten()\n",
        "    y_true = y_true.flatten()\n",
        "    current = confusion_matrix(y_true, y_pred, labels=[0, 1])\n",
        "    correct_pixels = np.diag(current).sum()\n",
        "    total_pixels = current.sum()\n",
        "    pixel_accuracy = correct_pixels / total_pixels\n",
        "    return pixel_accuracy\n",
        "\n",
        "# Load the images\n",
        "with rasterio.open('/content/sample_data/segment_12NDVI_another.tif') as ndvi_file:\n",
        "    ndvi_image = ndvi_file.read(1)  # Read the first band\n",
        "    ndvi_image = (ndvi_image > 0.6).astype(np.uint8)\n",
        "\n",
        "with rasterio.open('/content/sample_data/mask_12.tif') as sam_file:\n",
        "    sam_mask = sam_file.read(1)  # Read the first band\n",
        "    sam_mask=(sam_mask > 0).astype(np.uint8)\n",
        "\n",
        "# Threshold NDVI to create binary ground truth (e.g., NDVI > 0.3 for vegetation)\n",
        "# ndvi_binary = (ndvi_image > 0.3).astype(np.uint8)\n",
        "\n",
        "# # Ensure the SAM mask is binary\n",
        "# sam_binary = (sam_mask > 0).astype(np.uint8)\n",
        "\n",
        "# Compute metrics\n",
        "iou = compute_iou(sam_mask, ndvi_image)\n",
        "dice = compute_dice(sam_mask, ndvi_image)\n",
        "pixel_accuracy = compute_pixel_accuracy(sam_mask, ndvi_image)\n",
        "\n",
        "# Print results\n",
        "print(f\"IoU: {iou:.4f}\")\n",
        "print(f\"Dice Coefficient: {dice:.4f}\")\n",
        "print(f\"Pixel Accuracy: {pixel_accuracy:.4f}\")\n"
      ],
      "metadata": {
        "colab": {
          "base_uri": "https://localhost:8080/"
        },
        "id": "YKbYjKuehuUi",
        "outputId": "491dcc31-8f17-42fb-f748-0654d5ea3499"
      },
      "execution_count": 5,
      "outputs": [
        {
          "output_type": "stream",
          "name": "stdout",
          "text": [
            "IoU: 0.6482\n",
            "Dice Coefficient: 0.7817\n",
            "Pixel Accuracy: 0.8089\n"
          ]
        }
      ]
    },
    {
      "cell_type": "code",
      "source": [
        "import matplotlib.pyplot as plt\n",
        "from sklearn.metrics import ConfusionMatrixDisplay\n",
        "from sklearn.metrics import confusion_matrix\n",
        "import numpy as np\n",
        "import rasterio\n",
        "\n",
        "# Function to compute and visualize confusion matrix\n",
        "def plot_confusion_matrix(y_pred, y_true):\n",
        "    y_pred = y_pred.flatten()\n",
        "    y_true = y_true.flatten()\n",
        "    cm = confusion_matrix(y_true, y_pred, labels=[0, 1])\n",
        "    disp = ConfusionMatrixDisplay(confusion_matrix=cm, display_labels=[0, 1])\n",
        "    disp.plot(cmap='Blues')\n",
        "    plt.title(\"Confusion Matrix\")\n",
        "    plt.show()\n",
        "\n",
        "# Compute difference between NDVI and SAM masks\n",
        "def compute_difference(ndvi_image, sam_mask):\n",
        "    return ndvi_image - sam_mask\n",
        "\n",
        "# Load the images\n",
        "with rasterio.open('/content/sample_data/segment_12NDVI_another.tif') as ndvi_file:\n",
        "    ndvi_image = ndvi_file.read(1)  # Read the first band\n",
        "    ndvi_image = (ndvi_image > 0.6).astype(np.uint8)\n",
        "\n",
        "with rasterio.open('/content/sample_data/mask_12.tif') as sam_file:\n",
        "    sam_mask = sam_file.read(1)  # Read the first band\n",
        "    sam_mask=(sam_mask > 0).astype(np.uint8)\n",
        "\n",
        "print(\"NDVI image shape:\", ndvi_image.shape)\n",
        "print(\"SAM mask shape:\", sam_mask.shape)\n",
        "\n",
        "print(\"Unique values in NDVI binary:\", np.unique(ndvi_image))\n",
        "print(\"Unique values in SAM binary:\", np.unique(sam_mask))\n",
        "# Threshold NDVI to create binary ground truth (e.g., NDVI > 0.3 for vegetation)\n",
        "# ndvi_binary = (ndvi_image > 0.3).astype(np.uint8)\n",
        "\n",
        "# # Ensure the SAM mask is binary\n",
        "# sam_binary = (sam_mask > 0).astype(np.uint8)\n",
        "\n",
        "# Compute metrics\n",
        "iou = compute_iou(sam_mask, ndvi_image)\n",
        "dice = compute_dice(sam_mask, ndvi_image)\n",
        "pixel_accuracy = compute_pixel_accuracy(sam_mask, ndvi_image)\n",
        "\n",
        "# Print results\n",
        "print(f\"IoU: {iou:.4f}\")\n",
        "print(f\"Dice Coefficient: {dice:.4f}\")\n",
        "print(f\"Pixel Accuracy: {pixel_accuracy:.4f}\")\n",
        "\n",
        "# Visualize confusion matrix\n",
        "plot_confusion_matrix(sam_mask, ndvi_image)\n",
        "\n",
        "# Compute the difference between NDVI and SAM masks\n",
        "difference = compute_difference(ndvi_image, sam_mask)\n",
        "\n",
        "# Plot the difference\n",
        "# plt.figure(figsize=(8, 8))\n",
        "# plt.imshow(difference, cmap='RdBu', interpolation='none')\n",
        "# plt.colorbar(label='Difference (NDVI - SAM)')\n",
        "# plt.title(\"Difference Between NDVI and SAM Masks\")\n",
        "# plt.show()\n"
      ],
      "metadata": {
        "colab": {
          "base_uri": "https://localhost:8080/",
          "height": 594
        },
        "id": "Kg-mfYE96OHI",
        "outputId": "62b47075-4298-42af-c46c-5409155eb021"
      },
      "execution_count": 9,
      "outputs": [
        {
          "output_type": "stream",
          "name": "stdout",
          "text": [
            "NDVI image shape: (256, 256)\n",
            "SAM mask shape: (256, 256)\n",
            "Unique values in NDVI binary: [0 1]\n",
            "Unique values in SAM binary: [0 1]\n",
            "IoU: 0.6482\n",
            "Dice Coefficient: 0.7817\n",
            "Pixel Accuracy: 0.8089\n"
          ]
        },
        {
          "output_type": "display_data",
          "data": {
            "text/plain": [
              "<Figure size 640x480 with 2 Axes>"
            ],
            "image/png": "[encoded data removed]"
          },
          "metadata": {}
        }
      ]
    }
  ]
}